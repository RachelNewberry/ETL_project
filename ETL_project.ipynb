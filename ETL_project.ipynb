{
 "cells": [
  {
   "cell_type": "code",
   "execution_count": null,
   "metadata": {},
   "outputs": [],
   "source": [
    "import pandas as pd\n",
    "from sqlalchemy import create_engine\n",
    "import psycopg2\n"
   ]
  },
  {
   "cell_type": "markdown",
   "metadata": {},
   "source": [
    "# Extract CSVs into DataFrames"
   ]
  },
  {
   "cell_type": "code",
   "execution_count": null,
   "metadata": {
    "scrolled": false
   },
   "outputs": [],
   "source": [
    "olympics_file = \"./Resources/Olympics.csv\"\n",
    "olympics_df = pd.read_csv(olympics_file)\n",
    "olympics_df.head()"
   ]
  },
  {
   "cell_type": "code",
   "execution_count": null,
   "metadata": {
    "scrolled": false
   },
   "outputs": [],
   "source": [
    "athlete_events_file = \"./Resources/athlete_events.csv\"\n",
    "athlete_events_df = pd.read_csv(athlete_events_file, encoding=\"ISO-8859-1\")\n",
    "athlete_events_df.head()"
   ]
  },
  {
   "cell_type": "markdown",
   "metadata": {},
   "source": [
    "# Transform Olympics DataFrame"
   ]
  },
  {
   "cell_type": "code",
   "execution_count": null,
   "metadata": {},
   "outputs": [],
   "source": [
    "# Create a filtered dataframe from specific columns\n",
    "olympics_cols = [\"Code\", \"Nation\", \"Medals\"]\n",
    "olympics_transformed = olympics_df[olympics_cols].copy()\n",
    "\n",
    "# Rename the column headers\n",
    "olympics_transformed = olympics_transformed.rename(columns={\"Code\": \"Country_Code\",\n",
    "                                                          \"Nation\": \"Nation\",\n",
    "                                                          \"Medals\": \"Medals_Won\"})\n",
    "\n",
    "# Clean the data by dropping duplicates and setting the index\n",
    "olympics_transformed.drop_duplicates(\"Country_Code\", inplace=True)\n",
    "olympics_transformed.set_index(\"Country_Code\", inplace=True)\n",
    "\n",
    "\n",
    "olympics_transformed.head()"
   ]
  },
  {
   "cell_type": "code",
   "execution_count": null,
   "metadata": {},
   "outputs": [],
   "source": []
  },
  {
   "cell_type": "markdown",
   "metadata": {},
   "source": [
    "# Transform Athlete Event DataFrame"
   ]
  },
  {
   "cell_type": "code",
   "execution_count": null,
   "metadata": {},
   "outputs": [],
   "source": [
    "athlete_events_cols = [\"NOC\", \"Team\", \"Sport\"]\n",
    "athlete_events_transformed = athlete_events_df[athlete_events_cols].copy()\n",
    "\n",
    "# Rename the column headers\n",
    "athlete_events_transformed = athlete_events_transformed.rename(columns={\"NOC\": \"Country_Code\",\n",
    "                                                         \"Team\": \"County_Name\",\n",
    "                                                         \"Sport\": \"Event\"})\n",
    "\n",
    "# Set index\n",
    "athlete_events_transformed.set_index(\"Country_Code\", inplace=True)\n",
    "\n",
    "athlete_events_transformed.head()"
   ]
  },
  {
   "cell_type": "code",
   "execution_count": null,
   "metadata": {},
   "outputs": [],
   "source": []
  },
  {
   "cell_type": "markdown",
   "metadata": {},
   "source": [
    "# Create database connection"
   ]
  },
  {
   "cell_type": "code",
   "execution_count": null,
   "metadata": {},
   "outputs": [],
   "source": [
    "connection_string = \"postgres:MilesDarren3!@localhost:5432/olympics_db\"\n",
    "engine = create_engine(f'postgresql://{connection_string}')\n",
    "engine"
   ]
  },
  {
   "cell_type": "code",
   "execution_count": null,
   "metadata": {},
   "outputs": [],
   "source": [
    "# Confirm tables\n",
    "engine.table_names()"
   ]
  },
  {
   "cell_type": "markdown",
   "metadata": {},
   "source": [
    "# Load DataFrames into Database"
   ]
  },
  {
   "cell_type": "code",
   "execution_count": null,
   "metadata": {},
   "outputs": [],
   "source": [
    "olympics_transformed.to_sql(name='olympics', con=engine, if_exists='append', index=False)"
   ]
  },
  {
   "cell_type": "code",
   "execution_count": null,
   "metadata": {},
   "outputs": [],
   "source": [
    "athlete_events_transformed.to_sql(name='athlete_events', con=engine, if_exists='append', index=True)"
   ]
  },
  {
   "cell_type": "code",
   "execution_count": null,
   "metadata": {},
   "outputs": [],
   "source": []
  }
 ],
 "metadata": {
  "kernelspec": {
   "display_name": "Python 3",
   "language": "python",
   "name": "python3"
  },
  "language_info": {
   "codemirror_mode": {
    "name": "ipython",
    "version": 3
   },
   "file_extension": ".py",
   "mimetype": "text/x-python",
   "name": "python",
   "nbconvert_exporter": "python",
   "pygments_lexer": "ipython3",
   "version": "3.8.5"
  }
 },
 "nbformat": 4,
 "nbformat_minor": 4
}
